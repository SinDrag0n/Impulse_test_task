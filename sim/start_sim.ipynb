{
 "cells": [
  {
   "cell_type": "code",
   "execution_count": 3,
   "id": "b743c289",
   "metadata": {},
   "outputs": [],
   "source": [
    "import os\n",
    "import random"
   ]
  },
  {
   "cell_type": "code",
   "execution_count": null,
   "id": "148ab2f1",
   "metadata": {},
   "outputs": [
    {
     "ename": "NameError",
     "evalue": "name 'random' is not defined",
     "output_type": "error",
     "traceback": [
      "\u001b[31m---------------------------------------------------------------------------\u001b[39m",
      "\u001b[31mNameError\u001b[39m                                 Traceback (most recent call last)",
      "\u001b[36mCell\u001b[39m\u001b[36m \u001b[39m\u001b[32mIn[1]\u001b[39m\u001b[32m, line 46\u001b[39m\n\u001b[32m     44\u001b[39m \u001b[38;5;66;03m# Пример использования\u001b[39;00m\n\u001b[32m     45\u001b[39m \u001b[38;5;28;01mif\u001b[39;00m \u001b[34m__name__\u001b[39m == \u001b[33m\"\u001b[39m\u001b[33m__main__\u001b[39m\u001b[33m\"\u001b[39m:\n\u001b[32m---> \u001b[39m\u001b[32m46\u001b[39m     a_array, b_array, c_array, d_array = \u001b[43mgenerate_mem_file\u001b[49m\u001b[43m(\u001b[49m\u001b[43mN\u001b[49m\u001b[43m=\u001b[49m\u001b[32;43m5\u001b[39;49m\u001b[43m,\u001b[49m\u001b[43m \u001b[49m\u001b[43mbit_width\u001b[49m\u001b[43m=\u001b[49m\u001b[32;43m8\u001b[39;49m\u001b[43m)\u001b[49m\n\u001b[32m     47\u001b[39m     \u001b[38;5;28mprint\u001b[39m(\u001b[33m\"\u001b[39m\u001b[33mМассив a:\u001b[39m\u001b[33m\"\u001b[39m, a_array)\n\u001b[32m     48\u001b[39m     \u001b[38;5;28mprint\u001b[39m(\u001b[33m\"\u001b[39m\u001b[33mМассив b:\u001b[39m\u001b[33m\"\u001b[39m, b_array)\n",
      "\u001b[36mCell\u001b[39m\u001b[36m \u001b[39m\u001b[32mIn[1]\u001b[39m\u001b[32m, line 20\u001b[39m, in \u001b[36mgenerate_mem_file\u001b[39m\u001b[34m(N, min_value, max_value, bit_width)\u001b[39m\n\u001b[32m     17\u001b[39m \u001b[38;5;28;01mwith\u001b[39;00m \u001b[38;5;28mopen\u001b[39m(\u001b[33m\"\u001b[39m\u001b[33minput_data.mem\u001b[39m\u001b[33m\"\u001b[39m, \u001b[33m\"\u001b[39m\u001b[33mw\u001b[39m\u001b[33m\"\u001b[39m) \u001b[38;5;28;01mas\u001b[39;00m file:\n\u001b[32m     18\u001b[39m     \u001b[38;5;28;01mfor\u001b[39;00m i \u001b[38;5;129;01min\u001b[39;00m \u001b[38;5;28mrange\u001b[39m(N):\n\u001b[32m     19\u001b[39m         \u001b[38;5;66;03m# Генерация случайных чисел\u001b[39;00m\n\u001b[32m---> \u001b[39m\u001b[32m20\u001b[39m         a = \u001b[43mrandom\u001b[49m.randint(min_value, max_value)\n\u001b[32m     21\u001b[39m         b = random.randint(min_value, max_value)\n\u001b[32m     22\u001b[39m         c = random.randint(min_value, max_value)\n",
      "\u001b[31mNameError\u001b[39m: name 'random' is not defined"
     ]
    }
   ],
   "source": [
    "def generate_mem_file(N=10, min_value=-100, max_value=100, bit_width=32):\n",
    "    \"\"\"\n",
    "    Генерирует .mem файл с числами в двоичном формате и возвращает массивы чисел в десятичном формате.\n",
    "\n",
    "    :param N: Количество строк в файле.\n",
    "    :param min_value: Минимальное значение для генерации чисел.\n",
    "    :param max_value: Максимальное значение для генерации чисел.\n",
    "    :param bit_width: Разрядность числа (в битах).\n",
    "    :return: Четыре массива с числами в десятичном формате (a_array, b_array, c_array, d_array).\n",
    "    \"\"\"\n",
    "    # Инициализация массивов для хранения чисел в десятичном формате\n",
    "    a_array = []\n",
    "    b_array = []\n",
    "    c_array = []\n",
    "    d_array = []\n",
    "\n",
    "    with open(\"input_data.mem\", \"w\") as file:\n",
    "        for i in range(N):\n",
    "            # Генерация случайных чисел\n",
    "            a = random.randint(min_value, max_value)\n",
    "            b = random.randint(min_value, max_value)\n",
    "            c = random.randint(min_value, max_value)\n",
    "            d = random.randint(min_value, max_value)\n",
    "\n",
    "            # Преобразование в двоичный формат с фиксированной длиной\n",
    "            a_bin = f\"{a & (2**bit_width - 1):0{bit_width}b}\"\n",
    "            b_bin = f\"{b & (2**bit_width - 1):0{bit_width}b}\"\n",
    "            c_bin = f\"{c & (2**bit_width - 1):0{bit_width}b}\"\n",
    "            d_bin = f\"{d & (2**bit_width - 1):0{bit_width}b}\"\n",
    "\n",
    "            # Запись в файл\n",
    "            file.write(f\"{a_bin} {b_bin} {c_bin} {d_bin}\\n\")\n",
    "\n",
    "            # Добавление чисел в массивы в десятичном формате\n",
    "            a_array.append(a)\n",
    "            b_array.append(b)\n",
    "            c_array.append(c)\n",
    "            d_array.append(d)\n",
    "\n",
    "    # Возвращение массивов\n",
    "    return a_array, b_array, c_array, d_array\n",
    "\n",
    "\n",
    "# Пример использования"
   ]
  },
  {
   "cell_type": "code",
   "execution_count": 20,
   "id": "ee6300fc",
   "metadata": {},
   "outputs": [],
   "source": [
    "def read_output_data(file_name=\"output_data.txt\"):\n",
    "    q_expected = []  \n",
    "    q_real     = []  \n",
    "\n",
    "    with open(file_name, \"r\") as file:\n",
    "        for line in file:\n",
    "            value1, value2 = [int(x) for x in line.split()]\n",
    "            q_expected.append(value1)\n",
    "            q_real.append(value2)\n",
    "\n",
    "    return  q_expected, q_real"
   ]
  },
  {
   "cell_type": "code",
   "execution_count": null,
   "id": "cdd38cf2",
   "metadata": {},
   "outputs": [],
   "source": [
    "def calculate_and_compare(a_array, b_array, c_array, d_array, q_expected, q_real):\n",
    "    errors = 0\n",
    "    for i in range(len(a_array)-1):\n",
    "        result = int(((a_array[i] - b_array[i]) * (1 + 3 * c_array[i]) - 4 * d_array[i]) / 2)\n",
    "\n",
    "        if ((result != q_expected[i]) & (result == q_real[i])):\n",
    "            print(f\"Тест {i + 1}: Ошибка, рассчитанное в tb значение неверно! Результат: {result}, Ожидаемое из tb: {q_expected[i]}, Результат из модуля: {q_real[i]}\")\n",
    "            errors += 1\n",
    "        elif ((result == q_expected[i]) & (result != q_real[i])):\n",
    "            print(f\"Тест {i + 1}: Ошибка, рассчитанное в модуле значение неверно! Результат: {result}, Ожидаемое из tb: {q_expected[i]}, Фактическое: {q_real[i]}\")\n",
    "            errors += 1\n",
    "        elif ((result != q_expected[i]) & (result != q_real[i])):\n",
    "            print(f\"Тест {i + 1}: Ошибка, рассчитанное в модуле и tb значения неверно! Результат: {result}, Ожидаемое из tb: {q_expected[i]}, Фактическое: {q_real[i]}\")\n",
    "            errors += 1\n",
    "    if (errors == 0):\n",
    "      print(\"Тест прошел успешно\")\n",
    "    else:\n",
    "      print(f\"Обнаружено {errors} ошибок\")\n",
    "\n"
   ]
  },
  {
   "cell_type": "code",
   "execution_count": 52,
   "id": "fa0819e6",
   "metadata": {},
   "outputs": [],
   "source": [
    "a_array, b_array, c_array, d_array = generate_mem_file(N=10)\n",
    "\n"
   ]
  },
  {
   "cell_type": "code",
   "execution_count": 54,
   "id": "6e1ea240",
   "metadata": {},
   "outputs": [
    {
     "name": "stdout",
     "output_type": "stream",
     "text": [
      "Тест прошел успешно\n"
     ]
    }
   ],
   "source": [
    "q_expected, q_expected = read_output_data()\n",
    "calculate_and_compare(a_array,b_array,c_array,d_array,q_expected,q_expected)"
   ]
  },
  {
   "cell_type": "markdown",
   "id": "0c8e18f3",
   "metadata": {},
   "source": []
  }
 ],
 "metadata": {
  "kernelspec": {
   "display_name": "Python 3",
   "language": "python",
   "name": "python3"
  },
  "language_info": {
   "codemirror_mode": {
    "name": "ipython",
    "version": 3
   },
   "file_extension": ".py",
   "mimetype": "text/x-python",
   "name": "python",
   "nbconvert_exporter": "python",
   "pygments_lexer": "ipython3",
   "version": "3.13.2"
  }
 },
 "nbformat": 4,
 "nbformat_minor": 5
}
