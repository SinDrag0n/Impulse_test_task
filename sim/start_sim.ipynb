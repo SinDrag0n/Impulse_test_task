{
 "cells": [
  {
   "cell_type": "code",
   "execution_count": 3,
   "id": "b743c289",
   "metadata": {},
   "outputs": [],
   "source": [
    "import os\n",
    "import random"
   ]
  },
  {
   "cell_type": "code",
   "execution_count": 32,
   "id": "148ab2f1",
   "metadata": {},
   "outputs": [],
   "source": [
    "def generate_mem_file(N=10, min_value=-100, max_value=100, hex_width=32):\n",
    "\n",
    "    a_array = []\n",
    "    b_array = []\n",
    "    c_array = []\n",
    "    d_array = []\n",
    "\n",
    "    with open(\"input_data.mem\", \"w\") as file:\n",
    "        for i in range(N):\n",
    "            a = random.randint(min_value, max_value)\n",
    "            b = random.randint(min_value, max_value)\n",
    "            c = random.randint(min_value, max_value)\n",
    "            d = random.randint(min_value, max_value)\n",
    "\n",
    "            a_hex = f\"{a & 0xFFFFFFFF:08X}\"\n",
    "            b_hex = f\"{b & 0xFFFFFFFF:08X}\"\n",
    "            c_hex = f\"{c & 0xFFFFFFFF:08X}\"\n",
    "            d_hex = f\"{d & 0xFFFFFFFF:08X}\"\n",
    "\n",
    "            file.write(f\"{a_hex} {b_hex} {c_hex} {d_hex}\\n\")\n",
    "\n",
    "            a_array.append(a)\n",
    "            b_array.append(b)\n",
    "            c_array.append(c)\n",
    "            d_array.append(d)\n",
    "\n",
    "    # Возвращение массивов\n",
    "    return a_array, b_array, c_array, d_array"
   ]
  },
  {
   "cell_type": "code",
   "execution_count": 20,
   "id": "ee6300fc",
   "metadata": {},
   "outputs": [],
   "source": [
    "def read_output_data(file_name=\"output_data.txt\"):\n",
    "    q_expected = []  \n",
    "    q_real     = []  \n",
    "\n",
    "    with open(file_name, \"r\") as file:\n",
    "        for line in file:\n",
    "            value1, value2 = [int(x) for x in line.split()]\n",
    "            q_expected.append(value1)\n",
    "            q_real.append(value2)\n",
    "\n",
    "    return  q_expected, q_real"
   ]
  },
  {
   "cell_type": "code",
   "execution_count": 42,
   "id": "cdd38cf2",
   "metadata": {},
   "outputs": [],
   "source": [
    "def calculate_and_compare(a_array, b_array, c_array, d_array, q_expected, q_real):\n",
    "    errors = 0\n",
    "    for i in range(len(a_array)-1):\n",
    "        result = int(((a_array[i] - b_array[i]) * (1 + 3 * c_array[i]) - 4 * d_array[i]) // 2)\n",
    "\n",
    "        if ((result != q_expected[i]) & (result == q_real[i])):\n",
    "            print(f\"Тест {i + 1}: Ошибка, рассчитанное в tb значение неверно! Результат: {result}, Ожидаемое из tb: {q_expected[i]}, Результат из модуля: {q_real[i]}\")\n",
    "            errors += 1\n",
    "        elif ((result == q_expected[i]) & (result != q_real[i])):\n",
    "            print(f\"Тест {i + 1}: Ошибка, рассчитанное в модуле значение неверно! Результат: {result}, Ожидаемое из tb: {q_expected[i]}, Фактическое: {q_real[i]}\")\n",
    "            errors += 1\n",
    "        elif ((result != q_expected[i]) & (result != q_real[i])):\n",
    "            print(f\"Тест {i + 1}: Ошибка, рассчитанное в модуле и tb значения неверно! Результат: {result}, Ожидаемое из tb: {q_expected[i]}, Фактическое: {q_real[i]}\")\n",
    "            errors += 1\n",
    "    if (errors == 0):\n",
    "      print(\"Тест прошел успешно\")\n",
    "    else:\n",
    "      print(f\"Обнаружено {errors} ошибок\")\n",
    "\n"
   ]
  },
  {
   "cell_type": "code",
   "execution_count": 52,
   "id": "fa0819e6",
   "metadata": {},
   "outputs": [],
   "source": [
    "a_array, b_array, c_array, d_array = generate_mem_file(N=10)\n",
    "\n"
   ]
  },
  {
   "cell_type": "code",
   "execution_count": 53,
   "id": "6e1ea240",
   "metadata": {},
   "outputs": [
    {
     "name": "stdout",
     "output_type": "stream",
     "text": [
      "Тест 1: Ошибка, рассчитанное в модуле и tb значения неверно! Результат: 16379, Ожидаемое из tb: -9382, Фактическое: -9382\n",
      "Тест 2: Ошибка, рассчитанное в модуле и tb значения неверно! Результат: -93, Ожидаемое из tb: 6633, Фактическое: 6633\n",
      "Тест 3: Ошибка, рассчитанное в модуле и tb значения неверно! Результат: -7017, Ожидаемое из tb: -2080, Фактическое: -2080\n",
      "Тест 4: Ошибка, рассчитанное в модуле и tb значения неверно! Результат: -10547, Ожидаемое из tb: -1858, Фактическое: -1858\n",
      "Тест 5: Ошибка, рассчитанное в модуле и tb значения неверно! Результат: -56, Ожидаемое из tb: 3641, Фактическое: 3641\n"
     ]
    },
    {
     "ename": "IndexError",
     "evalue": "list index out of range",
     "output_type": "error",
     "traceback": [
      "\u001b[31m---------------------------------------------------------------------------\u001b[39m",
      "\u001b[31mIndexError\u001b[39m                                Traceback (most recent call last)",
      "\u001b[36mCell\u001b[39m\u001b[36m \u001b[39m\u001b[32mIn[53]\u001b[39m\u001b[32m, line 2\u001b[39m\n\u001b[32m      1\u001b[39m q_expected, q_expected = read_output_data()\n\u001b[32m----> \u001b[39m\u001b[32m2\u001b[39m \u001b[43mcalculate_and_compare\u001b[49m\u001b[43m(\u001b[49m\u001b[43ma_array\u001b[49m\u001b[43m,\u001b[49m\u001b[43mb_array\u001b[49m\u001b[43m,\u001b[49m\u001b[43mc_array\u001b[49m\u001b[43m,\u001b[49m\u001b[43md_array\u001b[49m\u001b[43m,\u001b[49m\u001b[43mq_expected\u001b[49m\u001b[43m,\u001b[49m\u001b[43mq_expected\u001b[49m\u001b[43m)\u001b[49m\n",
      "\u001b[36mCell\u001b[39m\u001b[36m \u001b[39m\u001b[32mIn[42]\u001b[39m\u001b[32m, line 6\u001b[39m, in \u001b[36mcalculate_and_compare\u001b[39m\u001b[34m(a_array, b_array, c_array, d_array, q_expected, q_real)\u001b[39m\n\u001b[32m      3\u001b[39m \u001b[38;5;28;01mfor\u001b[39;00m i \u001b[38;5;129;01min\u001b[39;00m \u001b[38;5;28mrange\u001b[39m(\u001b[38;5;28mlen\u001b[39m(a_array)-\u001b[32m1\u001b[39m):\n\u001b[32m      4\u001b[39m     result = \u001b[38;5;28mint\u001b[39m(((a_array[i] - b_array[i]) * (\u001b[32m1\u001b[39m + \u001b[32m3\u001b[39m * c_array[i]) - \u001b[32m4\u001b[39m * d_array[i]) // \u001b[32m2\u001b[39m)\n\u001b[32m----> \u001b[39m\u001b[32m6\u001b[39m     \u001b[38;5;28;01mif\u001b[39;00m ((result != \u001b[43mq_expected\u001b[49m\u001b[43m[\u001b[49m\u001b[43mi\u001b[49m\u001b[43m]\u001b[49m) & (result == q_real[i])):\n\u001b[32m      7\u001b[39m         \u001b[38;5;28mprint\u001b[39m(\u001b[33mf\u001b[39m\u001b[33m\"\u001b[39m\u001b[33mТест \u001b[39m\u001b[38;5;132;01m{\u001b[39;00mi\u001b[38;5;250m \u001b[39m+\u001b[38;5;250m \u001b[39m\u001b[32m1\u001b[39m\u001b[38;5;132;01m}\u001b[39;00m\u001b[33m: Ошибка, рассчитанное в tb значение неверно! Результат: \u001b[39m\u001b[38;5;132;01m{\u001b[39;00mresult\u001b[38;5;132;01m}\u001b[39;00m\u001b[33m, Ожидаемое из tb: \u001b[39m\u001b[38;5;132;01m{\u001b[39;00mq_expected[i]\u001b[38;5;132;01m}\u001b[39;00m\u001b[33m, Результат из модуля: \u001b[39m\u001b[38;5;132;01m{\u001b[39;00mq_real[i]\u001b[38;5;132;01m}\u001b[39;00m\u001b[33m\"\u001b[39m)\n\u001b[32m      8\u001b[39m         errors += \u001b[32m1\u001b[39m\n",
      "\u001b[31mIndexError\u001b[39m: list index out of range"
     ]
    }
   ],
   "source": [
    "q_expected, q_expected = read_output_data()\n",
    "calculate_and_compare(a_array,b_array,c_array,d_array,q_expected,q_expected)"
   ]
  },
  {
   "cell_type": "markdown",
   "id": "0c8e18f3",
   "metadata": {},
   "source": []
  }
 ],
 "metadata": {
  "kernelspec": {
   "display_name": "Python 3",
   "language": "python",
   "name": "python3"
  },
  "language_info": {
   "codemirror_mode": {
    "name": "ipython",
    "version": 3
   },
   "file_extension": ".py",
   "mimetype": "text/x-python",
   "name": "python",
   "nbconvert_exporter": "python",
   "pygments_lexer": "ipython3",
   "version": "3.13.2"
  }
 },
 "nbformat": 4,
 "nbformat_minor": 5
}
