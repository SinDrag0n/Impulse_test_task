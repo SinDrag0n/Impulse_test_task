{
 "cells": [
  {
   "cell_type": "code",
   "execution_count": 3,
   "id": "b743c289",
   "metadata": {},
   "outputs": [],
   "source": [
    "import os\n",
    "import random"
   ]
  },
  {
   "cell_type": "code",
   "execution_count": 9,
   "id": "148ab2f1",
   "metadata": {},
   "outputs": [],
   "source": [
    "def generate_mem_file(N=10, min_value=-100, max_value=100, hex_width=32):\n",
    "    import random\n",
    "\n",
    "    with open(\"input_data.mem\", \"w\") as file:\n",
    "        for i in range(N):\n",
    "            a = random.randint(min_value, max_value)\n",
    "            b = random.randint(min_value, max_value)\n",
    "            c = random.randint(min_value, max_value)\n",
    "            d = random.randint(min_value, max_value)\n",
    "\n",
    "            a_hex = f\"{a & 0xFFFFFFFF:08X}\"\n",
    "            b_hex = f\"{b & 0xFFFFFFFF:08X}\"\n",
    "            c_hex = f\"{c & 0xFFFFFFFF:08X}\"\n",
    "            d_hex = f\"{d & 0xFFFFFFFF:08X}\"\n",
    "\n",
    "            file.write(f\"{a_hex} {b_hex} {c_hex} {d_hex}\\n\")\n",
    "\n",
    "generate_mem_file(N=10, hex_width=32)"
   ]
  }
 ],
 "metadata": {
  "kernelspec": {
   "display_name": "Python 3",
   "language": "python",
   "name": "python3"
  },
  "language_info": {
   "codemirror_mode": {
    "name": "ipython",
    "version": 3
   },
   "file_extension": ".py",
   "mimetype": "text/x-python",
   "name": "python",
   "nbconvert_exporter": "python",
   "pygments_lexer": "ipython3",
   "version": "3.13.2"
  }
 },
 "nbformat": 4,
 "nbformat_minor": 5
}
