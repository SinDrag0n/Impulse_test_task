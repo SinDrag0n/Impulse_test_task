{
 "cells": [
  {
   "cell_type": "markdown",
   "id": "a380f479",
   "metadata": {},
   "source": [
    "Для изменения количества тестовых данных и их разрядности следует изменить следующие две переменные ниже. Cледует задавать разрядную сетку с запасом, т.к тестовое окружение и скрипт не проверяют значение при ее переполнении, а сравнивают с корректным из-за чего возникают ошибки"
   ]
  },
  {
   "cell_type": "code",
   "execution_count": null,
   "id": "cc3a8513",
   "metadata": {},
   "outputs": [],
   "source": [
    "TEST_VECTORS_NUM = 10\n",
    "BIT_WIDTH = 32"
   ]
  },
  {
   "cell_type": "code",
   "execution_count": 30,
   "id": "b743c289",
   "metadata": {},
   "outputs": [],
   "source": [
    "import os\n",
    "import random"
   ]
  },
  {
   "cell_type": "code",
   "execution_count": 31,
   "id": "d7fc02d3",
   "metadata": {},
   "outputs": [],
   "source": [
    "def update_tb_parameters(data_width, num_lines):\n",
    "    with open(\"tb/top_python_tb.sv\", \"r\") as file:\n",
    "        lines = file.readlines()\n",
    "\n",
    "    for i, line in enumerate(lines):\n",
    "        if \"localparam  DATA_WIDTH\" in line:\n",
    "            lines[i] = f'  localparam  DATA_WIDTH  = {data_width};\\n'\n",
    "        elif \"localparam  NUM_LINES\" in line:\n",
    "            lines[i] = f'  localparam  NUM_LINES   = {num_lines};\\n'\n",
    "\n",
    "    with open(\"tb/top_python_tb.sv\", \"w\") as file:\n",
    "        file.writelines(lines)"
   ]
  },
  {
   "cell_type": "code",
   "execution_count": 32,
   "id": "148ab2f1",
   "metadata": {},
   "outputs": [],
   "source": [
    "def generate_mem_file(N=10, min_value=-100, max_value=100, bit_width=32):\n",
    "  a_array = []\n",
    "  b_array = []\n",
    "  c_array = []\n",
    "  d_array = []\n",
    "\n",
    "  update_tb_parameters(bit_width,N)\n",
    "\n",
    "  with open(\"input_data.mem\", \"w\") as file:\n",
    "      for i in range(N):\n",
    "        a = random.randint(min_value, max_value)\n",
    "        b = random.randint(min_value, max_value)\n",
    "        c = random.randint(min_value, max_value)\n",
    "        d = random.randint(min_value, max_value)\n",
    "\n",
    "        a_bin = f\"{a & (2**bit_width - 1):0{bit_width}b}\"\n",
    "        b_bin = f\"{b & (2**bit_width - 1):0{bit_width}b}\"\n",
    "        c_bin = f\"{c & (2**bit_width - 1):0{bit_width}b}\"\n",
    "        d_bin = f\"{d & (2**bit_width - 1):0{bit_width}b}\"\n",
    "\n",
    "        file.write(f\"{a_bin} {b_bin} {c_bin} {d_bin}\\n\")\n",
    "\n",
    "        a_array.append(a)\n",
    "        b_array.append(b)\n",
    "        c_array.append(c)\n",
    "        d_array.append(d)\n",
    "\n",
    "  return a_array, b_array, c_array, d_array\n",
    "\n",
    "\n"
   ]
  },
  {
   "cell_type": "code",
   "execution_count": 33,
   "id": "ee6300fc",
   "metadata": {},
   "outputs": [],
   "source": [
    "def read_output_data(file_name=\"output_data.txt\"):\n",
    "    q_expected = []  \n",
    "    q_real     = []  \n",
    "\n",
    "    with open(file_name, \"r\") as file:\n",
    "        for line in file:\n",
    "            value1, value2 = [int(x) for x in line.split()]\n",
    "            q_expected.append(value1)\n",
    "            q_real.append(value2)\n",
    "\n",
    "    return  q_expected, q_real"
   ]
  },
  {
   "cell_type": "code",
   "execution_count": 34,
   "id": "cdd38cf2",
   "metadata": {},
   "outputs": [],
   "source": [
    "def calculate_and_compare(a_array, b_array, c_array, d_array, q_expected, q_real):\n",
    "    errors = 0\n",
    "    for i in range(len(a_array)-1):\n",
    "        result = int(((a_array[i] - b_array[i]) * (1 + 3 * c_array[i]) - 4 * d_array[i]) // 2)\n",
    "\n",
    "        if ((result != q_expected[i]) & (result == q_real[i])):\n",
    "            print(f\"Тест {i + 1}: Ошибка, рассчитанное в tb значение неверно! Результат: {result}, Ожидаемое из tb: {q_expected[i]}, Результат из модуля: {q_real[i]}\")\n",
    "            errors += 1\n",
    "        elif ((result == q_expected[i]) & (result != q_real[i])):\n",
    "            print(f\"Тест {i + 1}: Ошибка, рассчитанное в модуле значение неверно! Результат: {result}, Ожидаемое из tb: {q_expected[i]}, Фактическое: {q_real[i]}\")\n",
    "            errors += 1\n",
    "        elif ((result != q_expected[i]) & (result != q_real[i])):\n",
    "            print(f\"Тест {i + 1}: Ошибка, рассчитанное в модуле и tb значения неверно! Результат: {result}, Ожидаемое из tb: {q_expected[i]}, Фактическое: {q_real[i]}\")\n",
    "            errors += 1\n",
    "    if (errors == 0):\n",
    "      print(\"Тест прошел успешно\")\n",
    "    else:\n",
    "      print(f\"Обнаружено {errors} ошибок\")\n",
    "\n"
   ]
  },
  {
   "cell_type": "markdown",
   "id": "6d10c398",
   "metadata": {},
   "source": [
    "Ниже происходит генерация входных данных в входной файл для testbench"
   ]
  },
  {
   "cell_type": "code",
   "execution_count": 35,
   "id": "fa0819e6",
   "metadata": {},
   "outputs": [],
   "source": [
    "a_array, b_array, c_array, d_array = generate_mem_file(N=TEST_VECTORS_NUM,bit_width=BIT_WIDTH)\n",
    "\n"
   ]
  },
  {
   "cell_type": "markdown",
   "id": "bb5b3478",
   "metadata": {},
   "source": [
    "Следующий скрипт стоит запускать после запуска симуляции в Vivado, т.к он считывает файл являющийся результатом работы tb"
   ]
  },
  {
   "cell_type": "code",
   "execution_count": 36,
   "id": "6e1ea240",
   "metadata": {},
   "outputs": [
    {
     "name": "stdout",
     "output_type": "stream",
     "text": [
      "Тест 1: Ошибка, рассчитанное в модуле и tb значения неверно! Результат: 18740, Ожидаемое из tb: 255, Фактическое: 255\n",
      "Тест 2: Ошибка, рассчитанное в модуле и tb значения неверно! Результат: -382, Ожидаемое из tb: 130, Фактическое: 130\n",
      "Тест 3: Ошибка, рассчитанное в модуле и tb значения неверно! Результат: -5942, Ожидаемое из tb: -256, Фактическое: -256\n",
      "Тест 4: Ошибка, рассчитанное в модуле и tb значения неверно! Результат: -4922, Ожидаемое из tb: -218, Фактическое: -218\n",
      "Тест 5: Ошибка, рассчитанное в модуле и tb значения неверно! Результат: -9522, Ожидаемое из tb: -256, Фактическое: -256\n",
      "Тест 6: Ошибка, рассчитанное в модуле и tb значения неверно! Результат: -10042, Ожидаемое из tb: -178, Фактическое: -178\n",
      "Тест 7: Ошибка, рассчитанное в модуле и tb значения неверно! Результат: 749, Ожидаемое из tb: 255, Фактическое: 255\n",
      "Тест 8: Ошибка, рассчитанное в модуле и tb значения неверно! Результат: -890, Ожидаемое из tb: -58, Фактическое: -58\n",
      "Тест 9: Ошибка, рассчитанное в модуле и tb значения неверно! Результат: 5394, Ожидаемое из tb: 255, Фактическое: 255\n",
      "Обнаружено 9 ошибок\n"
     ]
    }
   ],
   "source": [
    "q_expected, q_expected = read_output_data()\n",
    "calculate_and_compare(a_array,b_array,c_array,d_array,q_expected,q_expected)"
   ]
  },
  {
   "cell_type": "markdown",
   "id": "1c1a5276",
   "metadata": {},
   "source": []
  },
  {
   "cell_type": "markdown",
   "id": "0c8e18f3",
   "metadata": {},
   "source": []
  }
 ],
 "metadata": {
  "kernelspec": {
   "display_name": "Python 3",
   "language": "python",
   "name": "python3"
  },
  "language_info": {
   "codemirror_mode": {
    "name": "ipython",
    "version": 3
   },
   "file_extension": ".py",
   "mimetype": "text/x-python",
   "name": "python",
   "nbconvert_exporter": "python",
   "pygments_lexer": "ipython3",
   "version": "3.13.2"
  }
 },
 "nbformat": 4,
 "nbformat_minor": 5
}
